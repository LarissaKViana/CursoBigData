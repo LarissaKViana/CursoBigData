{
 "cells": [
  {
   "cell_type": "code",
   "execution_count": 122,
   "metadata": {},
   "outputs": [],
   "source": [
    "import pandas as pd\n",
    "import  numpy as np\n",
    "import random"
   ]
  },
  {
   "cell_type": "markdown",
   "metadata": {},
   "source": []
  },
  {
   "cell_type": "markdown",
   "metadata": {},
   "source": [
    "Atividade: crie um array com 50 números aleatórios e repitam\n",
    "a análise sobre a distância calculada anterior para a nova amostra."
   ]
  },
  {
   "cell_type": "code",
   "execution_count": 123,
   "metadata": {},
   "outputs": [
    {
     "name": "stdout",
     "output_type": "stream",
     "text": [
      "[145, 27, 142, 144, 144, 25, 86, 68, 121, 13, 70, 150, 37, 87, 81, 98, 23, 128, 127, 67, 50, 22, 35, 69, 149, 150, 100, 66, 122, 134, 98, 66, 85, 124, 89, 41, 20, 136, 6, 149, 150, 109, 13, 111, 35, 134, 141, 72, 52, 33]\n"
     ]
    }
   ],
   "source": [
    "amostra2=[random.randint(1,150) for i in range(50) ]\n",
    "print(amostra2)"
   ]
  },
  {
   "cell_type": "code",
   "execution_count": 124,
   "metadata": {},
   "outputs": [],
   "source": [
    "media2=np.mean(amostra2)\n",
    "mediana2=np.median(amostra2)\n",
    "q1=np.percentile(amostra2,25)\n",
    "q2=np.percentile(amostra2,50)\n",
    "q3=np.percentile(amostra2,75)\n",
    "distancia2=(media2-mediana2)/mediana2*100\n",
    "iqr=q3-q1\n",
    "limite_superior=q3+(1.5*iqr)\n",
    "limite_inferior=q1-(1.5*iqr)\n",
    "variancia=np.var(amostra2)       \n",
    "desviopadrao=np.std(amostra2)            \n",
    "coef_variacao= desviopadrao/media2\n",
    "distancia= variancia/ (media2**2)"
   ]
  },
  {
   "cell_type": "code",
   "execution_count": 125,
   "metadata": {},
   "outputs": [
    {
     "name": "stdout",
     "output_type": "stream",
     "text": [
      "Media: 86.88\n",
      "Mediana: 86.5\n",
      "Primeiro Quartil;(Q1:43.25)\n",
      "Primeiro Quartil;(Q2:86.5)\n",
      "Primeiro Quartil;(Q3:132.5)\n",
      "Distância:0.44%\n",
      "intervalo InterQuartil: 89.25\n",
      "Limite Superior: 266.375\n",
      "Limite Inferior: -90.625\n",
      "Variancia:2130.9055999999996\n",
      "Desvio Padrão: 46.16173306971912\n",
      "Coeficiente Variação: 0.5313274985004502\n",
      "Distancia: 28.230891066274598,%\n"
     ]
    }
   ],
   "source": [
    "print(f'Media: {media2}')\n",
    "print(f'Mediana: {mediana2}')\n",
    "print(f'Primeiro Quartil;(Q1:{q1})')\n",
    "print(f'Primeiro Quartil;(Q2:{q2})')\n",
    "print(f'Primeiro Quartil;(Q3:{q3})')\n",
    "print(f'Distância:{distancia2:.2f}%')\n",
    "print(f'intervalo InterQuartil: {iqr}')\n",
    "print(f'Limite Superior: {limite_superior}')\n",
    "print(f'Limite Inferior: {limite_inferior}')\n",
    "print(f'Variancia:{variancia}')  \n",
    "print(f'Desvio Padrão: {desviopadrao}') \n",
    "print(f'Coeficiente Variação: {coef_variacao}')\n",
    "print(f'Distancia: {distancia*100},%')"
   ]
  },
  {
   "cell_type": "code",
   "execution_count": 126,
   "metadata": {},
   "outputs": [
    {
     "name": "stdout",
     "output_type": "stream",
     "text": [
      "A média está DENTRO do intervalo interquartil,o que sugere confiabilidade.\n"
     ]
    }
   ],
   "source": [
    "if q1<= media2<= q3:\n",
    "  print('A média está DENTRO do intervalo interquartil,o que sugere confiabilidade.')\n",
    "else:\n",
    "  print('A média está FORA do intervalo interquartil,o que sugere MENOS confiabilidade.')"
   ]
  },
  {
   "cell_type": "markdown",
   "metadata": {},
   "source": [
    "A média está DENTRO do intervalo interquartil,o que sugere confiabilidade.\n"
   ]
  },
  {
   "cell_type": "code",
   "execution_count": 127,
   "metadata": {},
   "outputs": [
    {
     "name": "stdout",
     "output_type": "stream",
     "text": [
      "6\n",
      "150\n"
     ]
    }
   ],
   "source": [
    "menor_num=min(amostra2)\n",
    "print(menor_num)\n",
    "maior_num=max(amostra2)\n",
    "print(maior_num)"
   ]
  },
  {
   "cell_type": "code",
   "execution_count": 128,
   "metadata": {},
   "outputs": [
    {
     "name": "stdout",
     "output_type": "stream",
     "text": [
      "Não possui OutLier\n",
      "Não possui OutLier\n"
     ]
    }
   ],
   "source": [
    "#Limite superior\n",
    "if maior_num>limite_superior:\n",
    "    print('Possui OutLier')\n",
    "else:\n",
    "    print('Não possui OutLier')\n",
    "\n",
    "#Limite inferior\n",
    "if menor_num<limite_inferior:\n",
    "    print('Possui OutLier')\n",
    "else:\n",
    "    print('Não possui OutLier')\n",
    "    "
   ]
  },
  {
   "cell_type": "code",
   "execution_count": 129,
   "metadata": {},
   "outputs": [],
   "source": [
    "amostra2_df=pd.DataFrame(amostra2, columns=['Valores'])\n",
    "\n",
    "valor_maximo=amostra2_df['Valores'].max()\n",
    "valor_minimo=amostra2_df['Valores'].min()\n",
    "amplitude_total=valor_maximo-valor_minimo"
   ]
  },
  {
   "cell_type": "code",
   "execution_count": 130,
   "metadata": {},
   "outputs": [
    {
     "name": "stdout",
     "output_type": "stream",
     "text": [
      "Menor Valor:6\n",
      "Maior Valor:150\n",
      "Amplitude:144\n"
     ]
    }
   ],
   "source": [
    "\n",
    "print(f'Menor Valor:{valor_minimo}')\n",
    "print(f'Maior Valor:{valor_maximo}')\n",
    "print(f'Amplitude:{amplitude_total}')"
   ]
  },
  {
   "cell_type": "code",
   "execution_count": 131,
   "metadata": {},
   "outputs": [],
   "source": [
    "serie=pd.Series(amostra2)\n"
   ]
  },
  {
   "cell_type": "code",
   "execution_count": 132,
   "metadata": {},
   "outputs": [],
   "source": [
    "assimetria=serie.skew()\n",
    "curtose=serie.kurtosis()"
   ]
  },
  {
   "cell_type": "code",
   "execution_count": 133,
   "metadata": {},
   "outputs": [
    {
     "name": "stdout",
     "output_type": "stream",
     "text": [
      "Assimetria: -0.13861811132318372\n",
      "Curtose: -1.355906236982639\n"
     ]
    }
   ],
   "source": [
    "print(f'Assimetria: {assimetria}')\n",
    "print(f'Curtose: {curtose}')"
   ]
  },
  {
   "cell_type": "code",
   "execution_count": 134,
   "metadata": {},
   "outputs": [
    {
     "name": "stdout",
     "output_type": "stream",
     "text": [
      "Distribuição Simetrica\n"
     ]
    }
   ],
   "source": [
    "\n",
    "if -0.5 <= assimetria <= 0.5:\n",
    "    resultado=\"Distribuição Simetrica\"\n",
    "elif assimetria>0.5:\n",
    "    resultado=\"Distribuição Assimetrica Positiva\"\n",
    "else:\n",
    "    resultado=\"Distribuição Assimetrica Negativa\"\n",
    "\n",
    "print(resultado)"
   ]
  },
  {
   "cell_type": "code",
   "execution_count": 135,
   "metadata": {},
   "outputs": [
    {
     "name": "stdout",
     "output_type": "stream",
     "text": [
      "Distribuição Plalicúrtica\n"
     ]
    }
   ],
   "source": [
    "if 2.5<= curtose <=3.5:\n",
    "    resultado2=\"Distribuição Mesocurtica\"\n",
    "elif curtose < 2.5:\n",
    "    resultado2=\"Distribuição Plalicúrtica\"\n",
    "else:\n",
    "    resultado2=\"Distribuição Leptocúrtica\"\n",
    "\n",
    "print(resultado2)"
   ]
  },
  {
   "cell_type": "code",
   "execution_count": 136,
   "metadata": {},
   "outputs": [
    {
     "data": {
      "image/png": "[encoded data removed]",
      "text/plain": [
       "<Figure size 1200x600 with 2 Axes>"
      ]
     },
     "metadata": {},
     "output_type": "display_data"
    }
   ],
   "source": [
    "\n",
    "import matplotlib.pyplot as plt\n",
    "#configuração do painel\n",
    "fig,ax=plt.subplots(1,2,figsize=(12,6))\n",
    "\n",
    "#Boxplot\n",
    "ax[0].boxplot(amostra2_df['Valores'])\n",
    "ax[0].set_title('Distribuição de Dados - Boxplot')\n",
    "ax[0].set_ylabel('Valores')\n",
    "\n",
    "#Exibindo as Medidas\n",
    "ax[1].text(0.1,0.8,f\"Menor Valor:{valor_minimo}\")\n",
    "ax[1].text(0.1,0.7,f\"Maior Valor:{valor_maximo}\")\n",
    "ax[1].text(0.1,0.6,f\"Amplitude Total:{amplitude_total}\")\n",
    "ax[1].set_axis_off()\n",
    "\n",
    "plt.tight_layout()\n",
    "plt.show()"
   ]
  }
 ],
 "metadata": {
  "kernelspec": {
   "display_name": "larissaViana",
   "language": "python",
   "name": "python3"
  },
  "language_info": {
   "codemirror_mode": {
    "name": "ipython",
    "version": 3
   },
   "file_extension": ".py",
   "mimetype": "text/x-python",
   "name": "python",
   "nbconvert_exporter": "python",
   "pygments_lexer": "ipython3",
   "version": "3.11.4"
  },
  "orig_nbformat": 4
 },
 "nbformat": 4,
 "nbformat_minor": 2
}
